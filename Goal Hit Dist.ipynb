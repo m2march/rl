{
 "cells": [
  {
   "cell_type": "code",
   "execution_count": 207,
   "metadata": {},
   "outputs": [],
   "source": [
    "import pandas as pd\n",
    "from carball.generated.api import game_pb2\n",
    "from carball.generated.api.stats import events_pb2\n",
    "from carball.generated.api.metadata import game_metadata_pb2\n",
    "from typing import *\n",
    "from carball.analysis.utils import pandas_manager\n",
    "import seaborn as sns"
   ]
  },
  {
   "cell_type": "code",
   "execution_count": 32,
   "metadata": {},
   "outputs": [
    {
     "name": "stdout",
     "output_type": "stream",
     "text": [
      "Using matplotlib backend: Qt5Agg\n",
      "Populating the interactive namespace from numpy and matplotlib\n"
     ]
    },
    {
     "name": "stderr",
     "output_type": "stream",
     "text": [
      "/home/march/anaconda3/lib/python3.6/site-packages/IPython/core/magics/pylab.py:160: UserWarning: pylab import has clobbered these variables: ['Text', 'f', 'cast']\n",
      "`%matplotlib` prevents importing * from pylab and numpy\n",
      "  \"\\n`%matplotlib` prevents importing * from pylab and numpy\"\n"
     ]
    }
   ],
   "source": [
    "%pylab"
   ]
  },
  {
   "cell_type": "code",
   "execution_count": 33,
   "metadata": {},
   "outputs": [],
   "source": [
    "with open('CC88B14F4E967268FEB550902A22C1A6.pts', 'rb') as f:\n",
    "    game = game_pb2.Game()\n",
    "    game.ParseFromString(f.read())"
   ]
  },
  {
   "cell_type": "code",
   "execution_count": 202,
   "metadata": {},
   "outputs": [],
   "source": [
    "goals = game.game_metadata.goals"
   ]
  },
  {
   "cell_type": "code",
   "execution_count": 203,
   "metadata": {},
   "outputs": [],
   "source": [
    "all_hits = game.game_stats.hits"
   ]
  },
  {
   "cell_type": "code",
   "execution_count": 204,
   "metadata": {},
   "outputs": [],
   "source": [
    "sorted_hits = sorted(all_hits, key=lambda h: h.frame_number)"
   ]
  },
  {
   "cell_type": "code",
   "execution_count": 208,
   "metadata": {},
   "outputs": [],
   "source": [
    "def hits_before_frame(goals: List[game_metadata_pb2.Goal], hits: List[events_pb2.Hit]) -> List[events_pb2.Hit]:\n",
    "    it = iter(hits)\n",
    "    last_h = next(it)\n",
    "    for g in goals:\n",
    "        try:\n",
    "            next_h = next(it)\n",
    "            while next_h.frame_number < g:\n",
    "                last_h = next_h\n",
    "                next_h = next(it)\n",
    "        except StopIteration:\n",
    "            yield last_h\n",
    "            return\n",
    "        yield last_h"
   ]
  },
  {
   "cell_type": "code",
   "execution_count": 209,
   "metadata": {},
   "outputs": [],
   "source": [
    "prev_hits = list(hits_before_frame(goal_frames, sorted_hits))"
   ]
  },
  {
   "cell_type": "code",
   "execution_count": 41,
   "metadata": {},
   "outputs": [],
   "source": [
    "with open('CC88B14F4E967268FEB550902A22C1A6.gzip', 'rb') as f:\n",
    "    df = pandas_manager.PandasManager.read_numpy_from_memory(f)"
   ]
  },
  {
   "cell_type": "code",
   "execution_count": 197,
   "metadata": {},
   "outputs": [],
   "source": [
    "ball_trayectories = [\n",
    "    [(r[1]['pos_x'], r[1]['pos_y'], r[1]['pos_z']) for r in df.ball[hit.frame_number:goal_frame].iterrows()]\n",
    "    for hit, goal_frame in zip(prev_hits, goal_frames)\n",
    "]"
   ]
  },
  {
   "cell_type": "code",
   "execution_count": 210,
   "metadata": {},
   "outputs": [],
   "source": [
    "goal_color = [[p.is_orange for p in game.players if p.id == g.player_id][0]\n",
    "              for g in goals]"
   ]
  },
  {
   "cell_type": "code",
   "execution_count": 43,
   "metadata": {},
   "outputs": [
    {
     "data": {
      "text/plain": [
       "Text(0.5,0,'y')"
      ]
     },
     "execution_count": 43,
     "metadata": {},
     "output_type": "execute_result"
    }
   ],
   "source": [
    "import matplotlib.pyplot as plt\n",
    "from mpl_toolkits.mplot3d import Axes3D\n",
    "fig = plt.figure()\n",
    "ax = fig.add_subplot(111, projection='3d')\n",
    "for bt in ball_trayectories:\n",
    "    xs, ys, zs = zip(*bt)\n",
    "    ax.plot(xs, ys, zs)\n",
    "ax.set_xlabel('x')\n",
    "ax.set_ylabel('y')"
   ]
  },
  {
   "cell_type": "code",
   "execution_count": 44,
   "metadata": {},
   "outputs": [],
   "source": [
    "pos_columns = ['pos_x', 'pos_y', 'pos_z']"
   ]
  },
  {
   "cell_type": "code",
   "execution_count": 45,
   "metadata": {},
   "outputs": [],
   "source": [
    "actors_pos = pd.concat([\n",
    "    pd.Series(df.xs(pos_c, axis=1, level=1).melt().value, name=pos_c) \n",
    "    for pos_c in pos_columns\n",
    "], axis=1)"
   ]
  },
  {
   "cell_type": "code",
   "execution_count": 46,
   "metadata": {},
   "outputs": [],
   "source": [
    "actors = [n for n in df.columns.levels[0] if n != 'game']"
   ]
  },
  {
   "cell_type": "code",
   "execution_count": 47,
   "metadata": {},
   "outputs": [],
   "source": [
    "actors_data = df[actors].reset_index(0).melt(id_vars='index', var_name=['actor', 'coord'])"
   ]
  },
  {
   "cell_type": "code",
   "execution_count": 82,
   "metadata": {},
   "outputs": [],
   "source": [
    "actors_pos_round = pd.concat([\n",
    "    actors_pos['pos_y'].apply(lambda x: np.round(x)),\n",
    "    actors_pos['pos_x']\n",
    "], axis=1)"
   ]
  },
  {
   "cell_type": "code",
   "execution_count": 83,
   "metadata": {},
   "outputs": [],
   "source": [
    "ys_max = actors_pos_round.groupby('pos_y').agg(max)\n",
    "ys_min = actors_pos_round.groupby('pos_y').agg(min)"
   ]
  },
  {
   "cell_type": "code",
   "execution_count": 85,
   "metadata": {},
   "outputs": [
    {
     "data": {
      "text/plain": [
       "<matplotlib.collections.PathCollection at 0x7efda39b0940>"
      ]
     },
     "execution_count": 85,
     "metadata": {},
     "output_type": "execute_result"
    }
   ],
   "source": [
    "scatter(ys_max.values, ys_max.index, marker='x', s=1)\n",
    "scatter(ys_min.values, ys_min.index, marker='x', s=1)"
   ]
  },
  {
   "cell_type": "code",
   "execution_count": 78,
   "metadata": {},
   "outputs": [
    {
     "data": {
      "text/plain": [
       "Text(0.5,0,'y')"
      ]
     },
     "execution_count": 78,
     "metadata": {},
     "output_type": "execute_result"
    }
   ],
   "source": [
    "fig = plt.figure()\n",
    "ax = fig.add_subplot(111, projection='3d')\n",
    "for bt in ball_trayectories:\n",
    "    ax.scatter(actors_pos['pos_x'], actors_pos['pos_y'], actors_pos['pos_z'])\n",
    "ax.set_xlabel('x')\n",
    "ax.set_ylabel('y')"
   ]
  },
  {
   "cell_type": "code",
   "execution_count": 86,
   "metadata": {},
   "outputs": [],
   "source": [
    "from scipy.spatial import ConvexHull"
   ]
  },
  {
   "cell_type": "code",
   "execution_count": 125,
   "metadata": {},
   "outputs": [],
   "source": [
    "points = actors_pos.dropna().values"
   ]
  },
  {
   "cell_type": "code",
   "execution_count": 126,
   "metadata": {},
   "outputs": [],
   "source": [
    "hull = ConvexHull(points)"
   ]
  },
  {
   "cell_type": "code",
   "execution_count": 219,
   "metadata": {},
   "outputs": [],
   "source": [
    "fig = plt.figure()\n",
    "ax = fig.add_subplot(111, projection='3d')\n",
    "vertices = points[hull.vertices]\n",
    "vertices_f = vertices[vertices[:, 2] < 1000]\n",
    "vertices_f[:, 2] = [min(n, 300) for n in vertices_f[:, 2]]\n",
    "vertices_left = vertices_f[vertices_f[:, 1] < 300]\n",
    "vertices_right = vertices_f[vertices_f[:, 1] > -300]\n",
    "ax.plot_trisurf(*zip(*vertices_left), color='orange', alpha=.3)\n",
    "ax.plot_trisurf(*zip(*vertices_right), color='blue', alpha=.3)\n",
    "ax.set_xlabel('x')\n",
    "ax.set_ylabel('y')\n",
    "for idx, (bt, col) in enumerate(zip(ball_trayectories, goal_color)):\n",
    "    ax.plot3D(*zip(*bt))"
   ]
  },
  {
   "cell_type": "code",
   "execution_count": null,
   "metadata": {},
   "outputs": [],
   "source": []
  }
 ],
 "metadata": {
  "kernelspec": {
   "display_name": "Python 3",
   "language": "python",
   "name": "python3"
  },
  "language_info": {
   "codemirror_mode": {
    "name": "ipython",
    "version": 3
   },
   "file_extension": ".py",
   "mimetype": "text/x-python",
   "name": "python",
   "nbconvert_exporter": "python",
   "pygments_lexer": "ipython3",
   "version": "3.6.5"
  }
 },
 "nbformat": 4,
 "nbformat_minor": 2
}
